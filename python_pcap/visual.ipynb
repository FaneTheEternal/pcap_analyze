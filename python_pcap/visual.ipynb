{
 "cells": [
  {
   "cell_type": "code",
   "execution_count": 16,
   "outputs": [],
   "source": [
    "import re\n",
    "\n",
    "import pandas as pd\n",
    "import matplotlib.pyplot as plt"
   ],
   "metadata": {
    "collapsed": false,
    "pycharm": {
     "name": "#%%\n"
    }
   }
  },
  {
   "cell_type": "code",
   "execution_count": 17,
   "outputs": [],
   "source": [
    "df = pd.read_csv('3.csv')"
   ],
   "metadata": {
    "collapsed": false,
    "pycharm": {
     "name": "#%%\n"
    }
   }
  },
  {
   "cell_type": "code",
   "execution_count": 18,
   "outputs": [],
   "source": [
    "class Model:\n",
    "    def __init__(self, name, error_squared, errors):\n",
    "        match = re.match(r'tf-model-16-(?P<l1>\\d+)-(?P<l2>\\d+)-(?P<l3>\\d+)-4', name)\n",
    "        self.cfg = list(map(lambda n: int(match.group(f'l{n}')), range(1, 4)))\n",
    "        self.error_squared = error_squared\n",
    "        self.errors = errors"
   ],
   "metadata": {
    "collapsed": false,
    "pycharm": {
     "name": "#%%\n"
    }
   }
  },
  {
   "cell_type": "code",
   "execution_count": 19,
   "outputs": [],
   "source": [
    "ls = []\n",
    "for index, row in df.iterrows():\n",
    "    ls.append(Model(\n",
    "        row['Model'],\n",
    "        [row['error squared 1'], row['error squared 2'], row['error squared 3'], row['error squared 4']],\n",
    "        [row['check error 1'], row['check error 1.1'], row['check error 1.2'], row['check error 1.3']]\n",
    "    ))\n",
    "ls.sort(key=lambda m: sum(m.errors))"
   ],
   "metadata": {
    "collapsed": false,
    "pycharm": {
     "name": "#%%\n"
    }
   }
  },
  {
   "cell_type": "code",
   "execution_count": 20,
   "outputs": [],
   "source": [
    "x = list(map(lambda m: str(m.cfg), ls))\n",
    "y = list(map(lambda m: sum(m.errors), ls))"
   ],
   "metadata": {
    "collapsed": false,
    "pycharm": {
     "name": "#%%\n"
    }
   }
  },
  {
   "cell_type": "code",
   "execution_count": null,
   "outputs": [],
   "source": [
    "plt.figure(figsize=(128, 8))\n",
    "plt.tick_params(colors='red', which='both', labelrotation=90)\n",
    "plt.bar(x, y)\n",
    "plt.savefig('sum.png', dpi=256)"
   ],
   "metadata": {
    "collapsed": false,
    "pycharm": {
     "name": "#%%\n",
     "is_executing": true
    }
   }
  },
  {
   "cell_type": "code",
   "execution_count": 21,
   "outputs": [],
   "source": [],
   "metadata": {
    "collapsed": false,
    "pycharm": {
     "name": "#%%\n"
    }
   }
  }
 ],
 "metadata": {
  "kernelspec": {
   "display_name": "Python 3",
   "language": "python",
   "name": "python3"
  },
  "language_info": {
   "codemirror_mode": {
    "name": "ipython",
    "version": 2
   },
   "file_extension": ".py",
   "mimetype": "text/x-python",
   "name": "python",
   "nbconvert_exporter": "python",
   "pygments_lexer": "ipython2",
   "version": "2.7.6"
  }
 },
 "nbformat": 4,
 "nbformat_minor": 0
}